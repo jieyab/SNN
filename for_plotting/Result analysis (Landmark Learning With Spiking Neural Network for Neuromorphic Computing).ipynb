{
 "cells": [
  {
   "cell_type": "code",
   "execution_count": 1,
   "metadata": {},
   "outputs": [],
   "source": [
    "import numpy as np\n",
    "import pandas as pd \n",
    "import matplotlib as plt\n",
    "import matplotlib.patches as mpatches\n",
    "from brian2 import*\n",
    "import datetime\n",
    "import os\n",
    "import time\n",
    "from os.path import getsize, join\n"
   ]
  },
  {
   "cell_type": "code",
   "execution_count": 2,
   "metadata": {},
   "outputs": [],
   "source": [
    "N_CD = 36\n",
    "N_axis = 32\n",
    "N_HD = 72\n",
    "N_x_axis = 32\n",
    "N_y_axis = 32"
   ]
  },
  {
   "cell_type": "code",
   "execution_count": null,
   "metadata": {},
   "outputs": [],
   "source": [
    "my_dir = '/Users/jieyab/SNN/for_plotting/last_data'"
   ]
  },
  {
   "cell_type": "code",
   "execution_count": null,
   "metadata": {},
   "outputs": [],
   "source": [
    "### read data from network without either Head direction error correcting cells or IMU\n",
    "#NoIMUNoHD\n",
    "#benchmark model\n",
    "collision_index_during_run_noIMUnoHC =np.load('/Users/jieyab/SNN/for_plotting/last_data/collision_index_during_run_noIMUnoHC.npy')\n",
    "collision_index_noIMUnoHC = np.load('/Users/jieyab/SNN/for_plotting/last_data/collision_index_noIMUnoHC.npy')\n",
    "r_noIMUnoHC = np.load('/Users/jieyab/SNN/for_plotting/last_data/r_noIMUnoHC.npy')\n",
    "alltim_noIMUnoHCe = np.load('/Users/jieyab/SNN/for_plotting/last_data/all_time_noIMUnoHC.npy')\n",
    "compass_angle_noIMUnoHC = np.load('/Users/jieyab/SNN/for_plotting/last_data/compass_angle_noIMUnoHC.npy')\n",
    "#obtain spiking monitor data\n",
    "spikemon_CD_t_noIMUnoHC = np.load('/Users/jieyab/SNN/for_plotting/last_data/spikemon_CD_t_noIMUnoHC.npy')\n",
    "spikemon_wall_t_noIMUnoHC = np.load('/Users/jieyab/SNN/for_plotting/last_data/spikemon_wall_t_noIMUnoHC.npy')\n",
    "\n",
    "spikemon_landmark_t_noIMUnoHC = np.load('/Users/jieyab/SNN/for_plotting/last_data/spikemon_landmark_t_noIMUnoHC.npy')\n",
    "spikemon_nonlandmark_t_noIMUnoHC = np.load('/Users/jieyab/SNN/for_plotting/last_data/spikemon_nonlandmark_t_noIMUnoHC.npy')\n",
    "\n",
    "spikemon_red_t_noIMUnoHC = np.load('/Users/jieyab/SNN/for_plotting/last_data/spikemon_red_t_noIMUnoHC.npy')\n",
    "spikemon_notred_t_noIMUnoHC = np.load('/Users/jieyab/SNN/for_plotting/last_data/spikemon_notred_t_noIMUnoHC.npy')\n",
    "\n",
    "\n",
    "spikemon_estimatedlandmark_t_noIMUnoHC = np.load('/Users/jieyab/SNN/for_plotting/last_data/spikemon_estimatedlandmark_t_noIMUnoHC.npy')\n",
    "spikemon_nonestimatedlandmark_t_noIMUnoHC = np.load('/Users/jieyab/SNN/for_plotting/last_data/spikemon_nonestimatedlandmark_t_noIMUnoHC.npy')\n",
    "\n",
    "\n",
    "spikemon_HD_t_noIMUnoHC = np.load('/Users/jieyab/SNN/for_plotting/last_data/spikemon_HD_t_noIMUnoHC.npy')\n",
    "spikemon_mismatch_t_noIMUnoHC = np.load('/Users/jieyab/SNN/for_plotting/last_data/spikemon_mismatch_t_noIMUnoHC.npy')\n",
    "spikemon_noncol_t_noIMUnoHC = np.load('/Users/jieyab/SNN/for_plotting/last_data/spikemon_noncollision_t_noIMUnoHC.npy')\n",
    "\n",
    "#obtaining plastic weights data\n",
    "weightlandmark_all_noIMUnoHC = np.load('/Users/jieyab/SNN/for_plotting/last_data/weight_during_run_landmark_noIMUnoHC.npy')\n",
    "weightwall_all_noIMUnoHC = np.load('/Users/jieyab/SNN/for_plotting/last_data/weight_during_run_wall_noIMUnoHC.npy') "
   ]
  },
  {
   "cell_type": "code",
   "execution_count": 13,
   "metadata": {},
   "outputs": [],
   "source": [
    "### read data from network without Head direction error correcting cells\n",
    "## the IMU model\n",
    "collision_index_during_run =np.load('/Users/jieyab/SNN/for_plotting/last_data/collision_index_during_run_onlyIMU.npy')\n",
    "collision_index = np.load('/Users/jieyab/SNN/for_plotting/last_data/collision_index_onlyIMU.npy')\n",
    "r = np.load('/Users/jieyab/SNN/for_plotting/last_data/r_onlyIMU.npy')\n",
    "alltime = np.load('/Users/jieyab/SNN/for_plotting/last_data/all_time_onlyIMU.npy')\n",
    "compass_angle = np.load('/Users/jieyab/SNN/for_plotting/last_data/compass_angle_onlyIMU.npy')\n",
    "#obtain spiking monitor data\n",
    "spikemon_CD_t = np.load('/Users/jieyab/SNN/for_plotting/last_data/spikemon_CD_t_onlyIMU.npy')\n",
    "spikemon_wall_t = np.load('/Users/jieyab/SNN/for_plotting/last_data/spikemon_wall_t_onlyIMU.npy')\n",
    "spikemon_landmark_t = np.load('/Users/jieyab/SNN/for_plotting/last_data/spikemon_landmark_t_onlyIMU.npy')\n",
    "\n",
    "spikemon_HD_i = np.load('/Users/jieyab/SNN/for_plotting/last_data/spikemon_HD_i_onlyIMU.npy')\n",
    "spikemon_HD_t = np.load('/Users/jieyab/SNN/for_plotting/last_data/spikemon_HD_t_onlyIMU.npy')\n",
    "spikemon_mismatch_t = np.load('/Users/jieyab/SNN/for_plotting/last_data/spikemon_mismatch_t_onlyIMU.npy')\n",
    "#spikemon_noncol_t = np.load('/Users/jieyab/SNN/for_plotting/last_data/spikemon_noncollision_onlyIMU.npy')\n",
    "spikemon_estimatedlandmark_t = np.load('/Users/jieyab/SNN/for_plotting/last_data/spikemon_estimatedlandmark_t_onlyIMU.npy')\n",
    "spikemon_nonestimatedlandmark_t= np.load('/Users/jieyab/SNN/for_plotting/last_data/spikemon_nonestimatedlandmark_t_onlyIMU.npy')\n",
    "\n",
    "#color neurons\n",
    "spikemon_red_t = np.load('/Users/jieyab/SNN/for_plotting/last_data/spikemon_red_t_onlyIMU.npy')\n",
    "spikemon_notred_t = np.load('/Users/jieyab/SNN/for_plotting/last_data/spikemon_notred_t_onlyIMU.npy')\n",
    "\n",
    "\n",
    "\n",
    "#obtaining plastic weights data\n",
    "weightlandmark_all = np.load('/Users/jieyab/SNN/for_plotting/last_data/weight_during_run_landmark_onlyIMU.npy')\n",
    "weightwall_all = np.load('/Users/jieyab/SNN/for_plotting/last_data/weight_during_run_wall_onlyIMU.npy')\n",
    "#step_time = np.load('/Users/jieyab/SNN/for_plotting/last_data/step_time_onlyIMU.npy')\n",
    "actual_headdir = np.load('/Users/jieyab/SNN/for_plotting/last_data/compass_angle_onlyIMU.npy')\n",
    "\n"
   ]
  },
  {
   "cell_type": "code",
   "execution_count": null,
   "metadata": {},
   "outputs": [],
   "source": [
    "### read data from network without Head direction error correcting cells\n",
    "## the IMU model\n",
    "collision_index_during_run =np.load('/Users/jieyab/SNN/for_plotting/last_data/collision_index_during_run0.npy')\n",
    "collision_index = np.load('/Users/jieyab/SNN/for_plotting/last_data/collision_index0.npy')\n",
    "r = np.load('/Users/jieyab/SNN/for_plotting/last_data/r0.npy')\n",
    "alltime = np.load('/Users/jieyab/SNN/for_plotting/last_data/all_time0.npy')\n",
    "compass_angle = np.load('/Users/jieyab/SNN/for_plotting/last_data/compass_angle0.npy')\n",
    "#obtain spiking monitor data\n",
    "spikemon_CD_t = np.load('/Users/jieyab/SNN/for_plotting/last_data/spikemon_CD_t0.npy')\n",
    "spikemon_wall_t = np.load('/Users/jieyab/SNN/for_plotting/last_data/spikemon_wall_t0.npy')\n",
    "spikemon_landmark_t = np.load('/Users/jieyab/SNN/for_plotting/last_data/spikemon_landmark_t0.npy')\n",
    "\n",
    "spikemon_HD_t = np.load('/Users/jieyab/SNN/for_plotting/last_data/spikemon_HD_t0.npy')\n",
    "spikemon_HD_i = np.load('/Users/jieyab/SNN/for_plotting/last_data/spikemon_HD_i0.npy')\n",
    "\n",
    "\n",
    "spikemon_mismatch_t = np.load('/Users/jieyab/SNN/for_plotting/last_data/spikemon_mismatch_t0.npy')\n",
    "spikemon_noncol_t = np.load('/Users/jieyab/SNN/for_plotting/last_data/spikemon_noncollision_t0.npy')\n",
    "\n",
    "spikemon_estimatedlandmark_t = np.load('/Users/jieyab/SNN/for_plotting/last_data/spikemon_estimatedlandmark_t0.npy')\n",
    "spikemon_nonestimatedlandmark_t= np.load('/Users/jieyab/SNN/for_plotting/last_data/spikemon_nonestimatedlandmark_t0.npy')\n",
    "\n",
    "#color neurons\n",
    "spikemon_red_t = np.load('/Users/jieyab/SNN/for_plotting/last_data/spikemon_red_t0.npy')\n",
    "spikemon_notred_t = np.load('/Users/jieyab/SNN/for_plotting/last_data/spikemon_notred_t0.npy')\n",
    "\n",
    "#obtaining plastic weights data\n",
    "weightlandmark_all = np.load('/Users/jieyab/SNN/for_plotting/last_data/weight_during_run_landmark0.npy')\n",
    "weightwall_all = np.load('/Users/jieyab/SNN/for_plotting/last_data/weight_during_run_wall0.npy') "
   ]
  },
  {
   "cell_type": "code",
   "execution_count": null,
   "metadata": {},
   "outputs": [],
   "source": [
    "### read data from network with only Head direction error correcting cells\n",
    "#HD-model\n",
    "\n",
    "collision_index_during_run_onlyHC =np.load('/Users/jieyab/SNN/for_plotting/last_data/collision_index_during_run_onlyHC.npy')\n",
    "collision_index_onlyHC = np.load('/Users/jieyab/SNN/for_plotting/last_data/collision_index_onlyHC.npy')\n",
    "r_onlyHC = np.load('/Users/jieyab/SNN/for_plotting/last_data/r_onlyHC.npy')\n",
    "alltime_onlyHC = np.load('/Users/jieyab/SNN/for_plotting/last_data/all_time_onlyHC.npy')\n",
    "compass_angle_onlyHC = np.load('/Users/jieyab/SNN/for_plotting/last_data/compass_angle_onlyHC.npy')\n",
    "#obtain spiking monitor data\n",
    "spikemon_CD_t_onlyHC = np.load('/Users/jieyab/SNN/for_plotting/last_data/spikemon_CD_t_onlyHC.npy')\n",
    "spikemon_wall_t_onlyHC = np.load('/Users/jieyab/SNN/for_plotting/last_data/spikemon_wall_t_onlyHC.npy')\n",
    "spikemon_landmark_t_onlyHC = np.load('/Users/jieyab/SNN/for_plotting/last_data/spikemon_landmark_t_onlyHC.npy')\n",
    "\n",
    "spikemon_HD_t_onlyHC = np.load('/Users/jieyab/SNN/for_plotting/last_data/spikemon_HD_t_onlyHC.npy')\n",
    "spikemon_mismatch_t_onlyHC = np.load('/Users/jieyab/SNN/for_plotting/last_data/spikemon_mismatch_t_onlyHC.npy')\n",
    "spikemon_noncol_t_onlyHC = np.load('/Users/jieyab/SNN/for_plotting/last_data/spikemon_noncollision_t_onlyHC.npy')\n",
    "\n",
    "#spikemon_positiveHD_error_t =  np.load('/Users/jieyab/SNN/for_plotting/last_data/spikemon_spikemon_positiveHD_error_t_onlyHC.npy')\n",
    "#spikemon_positiveHD_error_i =  np.load('/Users/jieyab/SNN/for_plotting/last_data/spikemon_spikemon_positiveHD_error_i_onlyHC.npy')\n",
    "\n",
    "spikemon_negativeHD_error_t_onlyHC = np.load('/Users/jieyab/SNN/for_plotting/last_data/spikemon_negativeHD_error_t_onlyHC.npy')\n",
    "spikemon_negativeHD_error_i_onlyHC = np.load('/Users/jieyab/SNN/for_plotting/last_data/spikemon_negativeHD_error_i_onlyHC.npy')\n",
    "\n",
    "\n",
    "\n",
    "#obtaining plastic weights data\n",
    "weightlandmark_all_onlyHC = np.load('/Users/jieyab/SNN/for_plotting/last_data/weight_during_run_landmark_onlyHC.npy')\n",
    "weightwall_all_onlyHC = np.load('/Users/jieyab/SNN/for_plotting/last_data/weight_during_run_wall_onlyHC.npy') "
   ]
  },
  {
   "cell_type": "code",
   "execution_count": 4,
   "metadata": {},
   "outputs": [
    {
     "ename": "FileNotFoundError",
     "evalue": "[Errno 2] No such file or directory: '/Users/jieyab/SNN/for_plotting/last_data/collision_index_during_run_onlyHC.npy'",
     "output_type": "error",
     "traceback": [
      "\u001b[0;31m---------------------------------------------------------------------------\u001b[0m",
      "\u001b[0;31mFileNotFoundError\u001b[0m                         Traceback (most recent call last)",
      "\u001b[0;32m<ipython-input-4-abd591f59db2>\u001b[0m in \u001b[0;36m<module>\u001b[0;34m\u001b[0m\n\u001b[1;32m      2\u001b[0m \u001b[0;31m#HD-model\u001b[0m\u001b[0;34m\u001b[0m\u001b[0;34m\u001b[0m\u001b[0m\n\u001b[1;32m      3\u001b[0m \u001b[0;34m\u001b[0m\u001b[0m\n\u001b[0;32m----> 4\u001b[0;31m \u001b[0mcollision_index_during_run\u001b[0m \u001b[0;34m=\u001b[0m\u001b[0mnp\u001b[0m\u001b[0;34m.\u001b[0m\u001b[0mload\u001b[0m\u001b[0;34m(\u001b[0m\u001b[0;34m'/Users/jieyab/SNN/for_plotting/last_data/collision_index_during_run_onlyHC.npy'\u001b[0m\u001b[0;34m)\u001b[0m\u001b[0;34m\u001b[0m\u001b[0m\n\u001b[0m\u001b[1;32m      5\u001b[0m \u001b[0;34m\u001b[0m\u001b[0m\n\u001b[1;32m      6\u001b[0m \u001b[0;31m#obtaining plastic weights data\u001b[0m\u001b[0;34m\u001b[0m\u001b[0;34m\u001b[0m\u001b[0m\n",
      "\u001b[0;32m/Library/Frameworks/Python.framework/Versions/3.6/lib/python3.6/site-packages/numpy/lib/npyio.py\u001b[0m in \u001b[0;36mload\u001b[0;34m(file, mmap_mode, allow_pickle, fix_imports, encoding)\u001b[0m\n\u001b[1;32m    370\u001b[0m     \u001b[0mown_fid\u001b[0m \u001b[0;34m=\u001b[0m \u001b[0;32mFalse\u001b[0m\u001b[0;34m\u001b[0m\u001b[0m\n\u001b[1;32m    371\u001b[0m     \u001b[0;32mif\u001b[0m \u001b[0misinstance\u001b[0m\u001b[0;34m(\u001b[0m\u001b[0mfile\u001b[0m\u001b[0;34m,\u001b[0m \u001b[0mbasestring\u001b[0m\u001b[0;34m)\u001b[0m\u001b[0;34m:\u001b[0m\u001b[0;34m\u001b[0m\u001b[0m\n\u001b[0;32m--> 372\u001b[0;31m         \u001b[0mfid\u001b[0m \u001b[0;34m=\u001b[0m \u001b[0mopen\u001b[0m\u001b[0;34m(\u001b[0m\u001b[0mfile\u001b[0m\u001b[0;34m,\u001b[0m \u001b[0;34m\"rb\"\u001b[0m\u001b[0;34m)\u001b[0m\u001b[0;34m\u001b[0m\u001b[0m\n\u001b[0m\u001b[1;32m    373\u001b[0m         \u001b[0mown_fid\u001b[0m \u001b[0;34m=\u001b[0m \u001b[0;32mTrue\u001b[0m\u001b[0;34m\u001b[0m\u001b[0m\n\u001b[1;32m    374\u001b[0m     \u001b[0;32melif\u001b[0m \u001b[0mis_pathlib_path\u001b[0m\u001b[0;34m(\u001b[0m\u001b[0mfile\u001b[0m\u001b[0;34m)\u001b[0m\u001b[0;34m:\u001b[0m\u001b[0;34m\u001b[0m\u001b[0m\n",
      "\u001b[0;31mFileNotFoundError\u001b[0m: [Errno 2] No such file or directory: '/Users/jieyab/SNN/for_plotting/last_data/collision_index_during_run_onlyHC.npy'"
     ]
    }
   ],
   "source": [
    "### read data from network with only Head direction error correcting cells\n",
    "#HD-model\n",
    "\n",
    "collision_index_during_run =np.load('/Users/jieyab/SNN/for_plotting/last_data/collision_index_during_run_onlyHC.npy')\n",
    "\n",
    "#obtaining plastic weights data\n",
    "weightlandmark_all = np.load('/Users/jieyab/SNN/for_plotting/last_data/weight_during_run_landmark_onlyHC.npy')\n",
    "weightwall_all= np.load('/Users/jieyab/SNN/for_plotting/last_data/weight_during_run_wall_onlyHC.npy') "
   ]
  },
  {
   "cell_type": "code",
   "execution_count": 5,
   "metadata": {},
   "outputs": [
    {
     "ename": "FileNotFoundError",
     "evalue": "[Errno 2] No such file or directory: '/Users/jieyab/SNN/for_plotting/last_data/collision_index_during_run_noIMUnoHC.npy'",
     "output_type": "error",
     "traceback": [
      "\u001b[0;31m---------------------------------------------------------------------------\u001b[0m",
      "\u001b[0;31mFileNotFoundError\u001b[0m                         Traceback (most recent call last)",
      "\u001b[0;32m<ipython-input-5-57a651d38973>\u001b[0m in \u001b[0;36m<module>\u001b[0;34m\u001b[0m\n\u001b[1;32m      2\u001b[0m \u001b[0;31m#HD-model\u001b[0m\u001b[0;34m\u001b[0m\u001b[0;34m\u001b[0m\u001b[0m\n\u001b[1;32m      3\u001b[0m \u001b[0;34m\u001b[0m\u001b[0m\n\u001b[0;32m----> 4\u001b[0;31m \u001b[0mcollision_index_during_run\u001b[0m \u001b[0;34m=\u001b[0m\u001b[0mnp\u001b[0m\u001b[0;34m.\u001b[0m\u001b[0mload\u001b[0m\u001b[0;34m(\u001b[0m\u001b[0;34m'/Users/jieyab/SNN/for_plotting/last_data/collision_index_during_run_noIMUnoHC.npy'\u001b[0m\u001b[0;34m)\u001b[0m\u001b[0;34m\u001b[0m\u001b[0m\n\u001b[0m\u001b[1;32m      5\u001b[0m \u001b[0;34m\u001b[0m\u001b[0m\n\u001b[1;32m      6\u001b[0m \u001b[0;31m#obtaining plastic weights data\u001b[0m\u001b[0;34m\u001b[0m\u001b[0;34m\u001b[0m\u001b[0m\n",
      "\u001b[0;32m/Library/Frameworks/Python.framework/Versions/3.6/lib/python3.6/site-packages/numpy/lib/npyio.py\u001b[0m in \u001b[0;36mload\u001b[0;34m(file, mmap_mode, allow_pickle, fix_imports, encoding)\u001b[0m\n\u001b[1;32m    370\u001b[0m     \u001b[0mown_fid\u001b[0m \u001b[0;34m=\u001b[0m \u001b[0;32mFalse\u001b[0m\u001b[0;34m\u001b[0m\u001b[0m\n\u001b[1;32m    371\u001b[0m     \u001b[0;32mif\u001b[0m \u001b[0misinstance\u001b[0m\u001b[0;34m(\u001b[0m\u001b[0mfile\u001b[0m\u001b[0;34m,\u001b[0m \u001b[0mbasestring\u001b[0m\u001b[0;34m)\u001b[0m\u001b[0;34m:\u001b[0m\u001b[0;34m\u001b[0m\u001b[0m\n\u001b[0;32m--> 372\u001b[0;31m         \u001b[0mfid\u001b[0m \u001b[0;34m=\u001b[0m \u001b[0mopen\u001b[0m\u001b[0;34m(\u001b[0m\u001b[0mfile\u001b[0m\u001b[0;34m,\u001b[0m \u001b[0;34m\"rb\"\u001b[0m\u001b[0;34m)\u001b[0m\u001b[0;34m\u001b[0m\u001b[0m\n\u001b[0m\u001b[1;32m    373\u001b[0m         \u001b[0mown_fid\u001b[0m \u001b[0;34m=\u001b[0m \u001b[0;32mTrue\u001b[0m\u001b[0;34m\u001b[0m\u001b[0m\n\u001b[1;32m    374\u001b[0m     \u001b[0;32melif\u001b[0m \u001b[0mis_pathlib_path\u001b[0m\u001b[0;34m(\u001b[0m\u001b[0mfile\u001b[0m\u001b[0;34m)\u001b[0m\u001b[0;34m:\u001b[0m\u001b[0;34m\u001b[0m\u001b[0m\n",
      "\u001b[0;31mFileNotFoundError\u001b[0m: [Errno 2] No such file or directory: '/Users/jieyab/SNN/for_plotting/last_data/collision_index_during_run_noIMUnoHC.npy'"
     ]
    }
   ],
   "source": [
    "### read data from network with only Head direction error correcting cells\n",
    "#HD-model\n",
    "\n",
    "collision_index_during_run =np.load('/Users/jieyab/SNN/for_plotting/last_data/collision_index_during_run_noIMUnoHC.npy')\n",
    "\n",
    "#obtaining plastic weights data\n",
    "weightlandmark_all = np.load('/Users/jieyab/SNN/for_plotting/last_data/weight_during_run_landmark_noIMUnoHC.npy')\n",
    "weightwall_all= np.load('/Users/jieyab/SNN/for_plotting/last_data/weight_during_run_wall_noIMUnoHC.npy') "
   ]
  },
  {
   "cell_type": "code",
   "execution_count": 6,
   "metadata": {},
   "outputs": [],
   "source": [
    "collision_index_during_run_IMUHC =np.load('/Users/jieyab/SNN/for_plotting/last_data/collision_index_during_run_IMUHC.npy')\n",
    "collision_index_IMUHC = np.load('/Users/jieyab/SNN/for_plotting/last_data/collision_index_IMUHC.npy')\n",
    "r_IMUHC = np.load('/Users/jieyab/SNN/for_plotting/last_data/r_IMUHC.npy')\n",
    "alltime_IMUHC = np.load('/Users/jieyab/SNN/for_plotting/last_data/all_time_IMUHC.npy')\n",
    "\n",
    "weightlandmark_all_IMUHC = np.load('/Users/jieyab/SNN/for_plotting/last_data/weight_during_run_landmark_IMUHC.npy')\n",
    "weightwall_all_IMUHC = np.load('/Users/jieyab/SNN/for_plotting/last_data/weight_during_run_wall_IMUHC.npy')\n",
    "compass_angle_IMUHC = np.load('/Users/jieyab/SNN/for_plotting/last_data/compass_angle_IMUHC.npy')\n",
    "\n",
    "spikemon_CD_t_IMUHC = np.load('/Users/jieyab/SNN/for_plotting/last_data/spikemon_CD_t_IMUHC.npy')\n",
    "spikemon_wall_t_IMUHC = np.load('/Users/jieyab/SNN/for_plotting/last_data/spikemon_wall_t_IMUHC.npy')\n",
    "\n",
    "spikemon_landmark_t_IMUHC = np.load('/Users/jieyab/SNN/for_plotting/last_data/spikemon_landmark_t_IMUHC.npy')\n",
    "spikemon_nonlandmark_t_IMUHC = np.load('/Users/jieyab/SNN/for_plotting/last_data/spikemon_nonlandmark_t_IMUHC.npy')\n",
    "\n",
    "spikemon_red_t_IMUHC = np.load('/Users/jieyab/SNN/for_plotting/last_data/spikemon_red_t_IMUHC.npy')\n",
    "spikemon_notred_t_IMUHC = np.load('/Users/jieyab/SNN/for_plotting/last_data/spikemon_notred_t_IMUHC.npy')\n",
    "\n",
    "\n",
    "spikemon_estimatedlandmark_t_IMUHC = np.load('/Users/jieyab/SNN/for_plotting/last_data/spikemon_estimatedlandmark_t_IMUHC.npy')\n",
    "\n",
    "spikemon_nonestimatedlandmark_t_IMUHC = np.load('/Users/jieyab/SNN/for_plotting/last_data/spikemon_nonestimatedlandmark_t_IMUHC.npy')\n",
    "\n",
    "\n",
    "spikemon_HD_t_IMUHC = np.load('/Users/jieyab/SNN/for_plotting/last_data/spikemon_HD_t_IMUHC.npy')\n",
    "\n",
    "spikemon_mismatch_t_IMUHC = np.load('/Users/jieyab/SNN/for_plotting/last_data/spikemon_mismatch_t_IMUHC.npy')\n",
    "spikemon_mismatch_v_IMUHC = np.load('/Users/jieyab/SNN/for_plotting/last_data/spikemon_mismatch_v_IMUHC.npy')\n",
    "\n",
    "spikemon_noncol_t_IMUHC = np.load('/Users/jieyab/SNN/for_plotting/last_data/spikemon_noncollision_t_IMUHC.npy')\n",
    "\n",
    "spikemon_positiveHD_error_t =  np.load('/Users/jieyab/SNN/for_plotting/last_data/spikemon_positiveHD_error_t_IMUHC.npy')\n",
    "spikemon_positiveHD_error_i =  np.load('/Users/jieyab/SNN/for_plotting/last_data/spikemon_positiveHD_error_i_IMUHC.npy')\n",
    "\n",
    "spikemon_negativeHD_error_t = np.load('/Users/jieyab/SNN/for_plotting/last_data/spikemon_negativeHD_error_t_IMUHC.npy')\n",
    "spikemon_negativeHD_error_i = np.load('/Users/jieyab/SNN/for_plotting/last_data/spikemon_negativeHD_error_i_IMUHC.npy')\n",
    "\n",
    "\n"
   ]
  },
  {
   "cell_type": "code",
   "execution_count": null,
   "metadata": {},
   "outputs": [],
   "source": [
    "collision_index_during_run = collision_index_during_run[:2000]\n",
    "r = r[:2000]\n",
    "all_time = alltime[:2000]\n",
    "\n",
    "weightlandmark_all = weightlandmark_all[:,:2000]\n",
    "weightwall_all= weightwall_all[:,:2000]\n",
    "compass_angle = compass_angle[:2000]\n",
    "\n",
    " \n",
    "exp_number = \"_IMUHD\"\n",
    "pathway = '/Users/jieyab/SNN/for_plotting/last_data/'\n",
    "\n",
    "np.save(pathway + \"r\" + exp_number, r)\n",
    "# np.save(pathway+\"spike_time.csv\", spike_time)\n",
    "np.save(pathway + \"spikemon_CD_t\" + exp_number, spikemon_CD_t)\n",
    "np.save(pathway + \"spikemon_HD_i\" + exp_number, spikemon_HD_i)\n",
    "np.save(pathway + \"spikemon_HD_t\" + exp_number, spikemon_HD_t)\n",
    "\n",
    "np.save(pathway + \"spikemon_wall_t\" + exp_number, spikemon_wall_t)\n",
    "np.save(pathway + \"spikemon_nonlandmark_t\" + exp_number, spikemon_nonlandmark_t)\n",
    "np.save(pathway + \"spikemon_landmark_t\" + exp_number, spikemon_landmark_t)\n",
    "np.save(pathway + \"weight_during_run_landmark\" + exp_number, weightwall_all)\n",
    "np.save(pathway + \"weight_during_run_wall\" + exp_number, weightlandmark_all)\n",
    "np.save(pathway + \"collision_index_during_run\" + exp_number, collision_index_during_run)\n",
    "np.save(pathway + \"compass_angle\" + exp_number, compass_angle)\n",
    "np.save(pathway + \"all_time\" + exp_number, all_time)\n"
   ]
  },
  {
   "cell_type": "code",
   "execution_count": null,
   "metadata": {},
   "outputs": [],
   "source": [
    "##for testimng\n",
    "collision_index_during_run =np.load('/Users/jieyab/SNN/for_plotting/last_data/collision_index_during_run_IMUHC.npy')\n",
    "collision_index = np.load('/Users/jieyab/SNN/for_plotting/last_data/collision_index_IMUHC.npy')\n",
    "r = np.load('/Users/jieyab/SNN/for_plotting/last_data/r_IMUHC.npy')\n",
    "alltime = np.load('/Users/jieyab/SNN/for_plotting/last_data/all_time_IMUHC.npy')\n",
    "\n",
    "weightlandmark_all = np.load('/Users/jieyab/SNN/for_plotting/last_data/weight_during_run_landmark_IMUHC.npy')\n",
    "weightwall_all= np.load('/Users/jieyab/SNN/for_plotting/last_data/weight_during_run_wall_IMUHC.npy')\n",
    "compass_angle = np.load('/Users/jieyab/SNN/for_plotting/last_data/compass_angle_IMUHC.npy')\n",
    "\n",
    "spikemon_CD_t = np.load('/Users/jieyab/SNN/for_plotting/last_data/spikemon_CD_t_IMUHC.npy')\n",
    "spikemon_wall_t = np.load('/Users/jieyab/SNN/for_plotting/last_data/spikemon_wall_t_IMUHC.npy')\n",
    "\n",
    "spikemon_landmark_t = np.load('/Users/jieyab/SNN/for_plotting/last_data/spikemon_landmark_t_IMUHC.npy')\n",
    "spikemon_nonlandmark_t = np.load('/Users/jieyab/SNN/for_plotting/last_data/spikemon_nonlandmark_t_IMUHC.npy')\n",
    "\n",
    "spikemon_red_t= np.load('/Users/jieyab/SNN/for_plotting/last_data/spikemon_red_t_IMUHC.npy')\n",
    "spikemon_notred_t = np.load('/Users/jieyab/SNN/for_plotting/last_data/spikemon_notred_t_IMUHC.npy')\n",
    "\n",
    "\n",
    "spikemon_estimatedlandmark_t = np.load('/Users/jieyab/SNN/for_plotting/last_data/spikemon_estimatedlandmark_t_IMUHC.npy')\n",
    "\n",
    "spikemon_nonestimatedlandmark_t = np.load('/Users/jieyab/SNN/for_plotting/last_data/spikemon_nonestimatedlandmark_t_IMUHC.npy')\n",
    "\n",
    "\n",
    "spikemon_HD_t = np.load('/Users/jieyab/SNN/for_plotting/last_data/spikemon_HD_t_IMUHC.npy')\n",
    "spikemon_HD_i = np.load('/Users/jieyab/SNN/for_plotting/last_data/spikemon_HD_i_IMUHC.npy')\n",
    "\n",
    "\n",
    "spikemon_mismatch_t = np.load('/Users/jieyab/SNN/for_plotting/last_data/spikemon_mismatch_t_IMUHC.npy')\n",
    "spikemon_mismatch_v = np.load('/Users/jieyab/SNN/for_plotting/last_data/spikemon_mismatch_v_IMUHC.npy')\n",
    "\n",
    "spikemon_noncol_t = np.load('/Users/jieyab/SNN/for_plotting/last_data/spikemon_noncollision_t_IMUHC.npy')\n",
    "\n",
    "spikemon_positiveHD_error_t =  np.load('/Users/jieyab/SNN/for_plotting/last_data/spikemon_positiveHD_error_t_IMUHC.npy')\n",
    "spikemon_positiveHD_error_i =  np.load('/Users/jieyab/SNN/for_plotting/last_data/spikemon_positiveHD_error_i_IMUHC.npy')\n",
    "\n",
    "spikemon_negativeHD_error_t = np.load('/Users/jieyab/SNN/for_plotting/last_data/spikemon_negativeHD_error_t_IMUHC.npy')\n",
    "#step_time = np.load('/Users/jieyab/SNN/for_plotting/last_data/step_time_IMUHC.npy')\n",
    "\n"
   ]
  },
  {
   "cell_type": "code",
   "execution_count": 8,
   "metadata": {},
   "outputs": [
    {
     "data": {
      "text/plain": [
       "3785"
      ]
     },
     "execution_count": 8,
     "metadata": {},
     "output_type": "execute_result"
    }
   ],
   "source": [
    "iter1 = len(collision_index_during_run)\n",
    "iter1"
   ]
  },
  {
   "cell_type": "code",
   "execution_count": null,
   "metadata": {},
   "outputs": [],
   "source": [
    "average_step_time = np.average(step_time)\n",
    "average_step_time "
   ]
  },
  {
   "cell_type": "code",
   "execution_count": 9,
   "metadata": {},
   "outputs": [],
   "source": [
    "#function to transfer position index into 2D coordinates\n",
    "def get_coordinates(position_index_array):\n",
    "    x = [position%N_axis for position in position_index_array]\n",
    "    y = [(position - (position%N_axis))/N_axis for position in position_index_array]\n",
    "    return x,y"
   ]
  },
  {
   "cell_type": "code",
   "execution_count": 10,
   "metadata": {},
   "outputs": [
    {
     "data": {
      "text/plain": [
       "<matplotlib.collections.PathCollection at 0x10fb5bc18>"
      ]
     },
     "execution_count": 10,
     "metadata": {},
     "output_type": "execute_result"
    },
    {
     "data": {
      "image/png": "[encoded data removed]",
      "text/plain": [
       "<Figure size 576x432 with 1 Axes>"
      ]
     },
     "metadata": {
      "needs_background": "light"
     },
     "output_type": "display_data"
    }
   ],
   "source": [
    "\n",
    "''' 1. Visualizing learned collision (wall and landmark) based on \n",
    "the weights of plastic synapses between wall/landmark neuron and position neurons\n",
    "'''\n",
    "\n",
    "\n",
    "wall_index = np.where(weightwall_all[:,iter1-1]>0.5)\n",
    "#bestlandmark = [np.argmax(weightlandmark_all[:,iter1-1])]\n",
    "bestlandmark = np.where(weightlandmark_all[:,(iter1-1)]>=0.5)\n",
    "#[np.argmax(weightlandmark_all[:,iter1-1])]\n",
    "\n",
    "landmark_index = np.array(bestlandmark)\n",
    "# calculating coordinates based on neuron indexes\n",
    "x_wall, y_wall = get_coordinates(wall_index)\n",
    "x_landmark,y_landmark = get_coordinates(landmark_index)\n",
    "\n",
    "########################visualizing learned wall and landmark###################\n",
    "#####blue is the estimated wall, red is the estimated landmark###########\n",
    "plt.rcParams['figure.figsize'] = [8, 6]\n",
    "\n",
    "plt.scatter(x_wall, y_wall, marker='o')\n",
    "plt.scatter(x_landmark,y_landmark, color = \"red\", marker='o')"
   ]
  },
  {
   "cell_type": "code",
   "execution_count": 11,
   "metadata": {},
   "outputs": [
    {
     "data": {
      "text/plain": [
       "<matplotlib.collections.PathCollection at 0x123332be0>"
      ]
     },
     "execution_count": 11,
     "metadata": {},
     "output_type": "execute_result"
    },
    {
     "data": {
      "image/png": "[encoded data removed]",
      "text/plain": [
       "<Figure size 576x432 with 1 Axes>"
      ]
     },
     "metadata": {
      "needs_background": "light"
     },
     "output_type": "display_data"
    }
   ],
   "source": [
    "''' 2. Visualizing groundtruth collision based on IMU data\n",
    "'''\n",
    "x_colli, y_colli = get_coordinates(collision_index_during_run[-1])\n",
    "plt.scatter(x_colli, y_colli, marker='o')"
   ]
  },
  {
   "cell_type": "code",
   "execution_count": null,
   "metadata": {},
   "outputs": [],
   "source": [
    "########plot the groundtruth trajectory based on IMU returned values ############\n",
    "trace = np.array(r)\n",
    "x_trace, y_trace = get_coordinates(trace)\n",
    "plt.plot(x_trace, y_trace, 'grey', lw=1)\n",
    "plt.scatter(x_trace, y_trace,color='blue', s=5,alpha=0.5)\n",
    "#plt.rcParams['figure.figsize'] = [10, 7]\n",
    "\n"
   ]
  },
  {
   "cell_type": "code",
   "execution_count": null,
   "metadata": {},
   "outputs": [],
   "source": [
    "\n",
    "########plot the groundtruth trajectory based on IMU returned values ############\n",
    "from collections import Counter\n",
    "trace = np.array(r)\n",
    "x_trace, y_trace = get_coordinates(trace)\n",
    "#plt.plot(x_trace, y_trace, 'grey', lw=1)\n",
    "c = Counter(zip(x_trace,y_trace))\n",
    "s = [1*c[(xx,yy)] for xx,yy in zip(x_trace,y_trace)]\n",
    "min_s = min(s)\n",
    "max_s = max(s)\n",
    "s = [(i-min_s)/(max_s - min_s)*30+30 for i in s]\n",
    "plt.scatter(x_trace, y_trace,color='blue', s=s, alpha=0.2)\n"
   ]
  },
  {
   "cell_type": "code",
   "execution_count": null,
   "metadata": {},
   "outputs": [],
   "source": [
    "'''\n",
    "3. comparing different neural firing time of \n",
    "collision detection neuron(green), wall detection neuron(blue), \n",
    "landmark detection neuron(red) and non-collision neuron (purple)\n",
    "'''\n",
    "\n",
    "''' theoretically, collision detection neuron's activity should be \n",
    " the sum of wall and landmark detection neurons;\n",
    " noncollision neuron should fire when the other 3 neurons are not;\n",
    " result plot show the validation of the network'''\n",
    "\n",
    "\n",
    "plt.rcParams['figure.figsize'] = [30,20]\n",
    "#plot wall detection\n",
    "fig = plt.figure()\n",
    "plt.plot(spikemon_wall_t,np.zeros(len(spikemon_wall_t)),'o',color = \"blue\",markersize =10,label='wall neuron')\n",
    "plt.plot(spikemon_landmark_t,np.repeat(0.5,len(spikemon_landmark_t)), 'o',\n",
    "            color = \"red\", markersize =10,label='landmark neuron')\n",
    "plt.plot(spikemon_CD_t,np.repeat(-0.5,len(spikemon_CD_t)), 'o',\n",
    "            color = \"green\",markersize=10,label='collision neuron')\n",
    "#plt.scatter(spikemon_noncol_t,np.repeat(-1,len(spikemon_noncol_t)),\n",
    "#           color = \"orange\",s=5,label='noncollison neuron')\n",
    "\n",
    "plt.plot(spikemon_red_t,np.repeat(-1,len(spikemon_red_t)), 'o',\n",
    "            color = \"purple\",markersize=10,label='red neuron')\n",
    "plt.plot(spikemon_notred_t,np.repeat(-1.5,len(spikemon_notred_t)), 'o',color = \"orange\",markersize=10,label='notred neuron')\n",
    "\n",
    "# place a text box in upper left in axes coords\n",
    "\n",
    "\n",
    "\n",
    "#plt.xlim([14500,18500])\n",
    "#plt.xlim([30000,34000])\n",
    "plt.ylim([-2.2,1])\n",
    "\n",
    "plt.tick_params(axis='x', labelsize=35)\n",
    "plt.tick_params(axis='y', labelsize=20)\n",
    "plt.xlabel('Time (s)' ,fontsize=40)\n",
    "plt.ylabel('3 types of detection Neurons  ', fontsize=40)\n",
    "lgnd=plt.legend(loc=3, prop={'size': 30}, frameon=False);\n",
    "#lgnd.legendHandles[0]._legmarker.set_markersize(6)\n",
    "#lgnd.legendHandles[1]._legmarker.set_markersize(6)\n"
   ]
  },
  {
   "cell_type": "code",
   "execution_count": null,
   "metadata": {},
   "outputs": [],
   "source": []
  },
  {
   "cell_type": "markdown",
   "metadata": {},
   "source": [
    "'''2. Heading direction neuron'''\n",
    "\n",
    "#plot the index of heading direction neurons and it's time of firing\n",
    "#resul\n",
    "fig = plt.figure()\n",
    "plt.plot(spikemon_HD_t,spikemon_HD_i*5, '.k')\n",
    "fig.set_size_inches(8, 6)\n",
    "plt.ylim([0,N_HD*5])\n",
    "plt.tick_params(axis='x', labelsize=15)\n",
    "plt.tick_params(axis='y', labelsize=15)\n",
    "plt.xlabel('Time (s)' ,fontsize=15)\n",
    "plt.ylabel('head direction degrees', fontsize=15)"
   ]
  },
  {
   "cell_type": "code",
   "execution_count": null,
   "metadata": {},
   "outputs": [],
   "source": [
    "'''2. Heading direction neuron'''\n",
    "\n",
    "#plot the index of heading direction neurons and it's time of firing\n",
    "#resul\n",
    "fig = plt.figure()\n",
    "plt.plot(spikemon_HD_t,spikemon_HD_i*5, '.k')\n",
    "fig.set_size_inches(8, 6)\n",
    "plt.ylim([0,N_HD*5])\n",
    "plt.tick_params(axis='x', labelsize=15)\n",
    "plt.tick_params(axis='y', labelsize=15)\n",
    "plt.xlabel('Time' ,fontsize=15)\n",
    "plt.ylabel('head direction degrees', fontsize=15)"
   ]
  },
  {
   "cell_type": "code",
   "execution_count": null,
   "metadata": {},
   "outputs": [],
   "source": []
  },
  {
   "cell_type": "code",
   "execution_count": null,
   "metadata": {},
   "outputs": [],
   "source": [
    "'''\n",
    "4.compare when mismatch happens if estimated landmark is not detected\n",
    "'''\n",
    "\n",
    "'''mismatch neurons fire when learned long term memroy of estimated \n",
    "landmark's position is visited but no landmark is observed. \n",
    "this learning error is implemented in a mismatch network.\n",
    "Theoretically, when mismatch neuron fires,\n",
    "the landmark neurons should not fire'''\n",
    "\n",
    "plt.rcParams['figure.figsize'] = [20,10]\n",
    "plt.scatter(spikemon_landmark_t,np.repeat(0.5,len(spikemon_landmark_t)),color = \"red\",s =17,label='landmark neuron')\n",
    "#plt.scatter(spikemon_nonlandmark_t,np.repeat(1.2,len(spikemon_nonlandmark_t)),color = \"orange\",s =17,label='nonlandmark neuron')\n",
    "plt.scatter(spikemon_estimatedlandmark_t,np.repeat(1.5,len(spikemon_estimatedlandmark_t)),color = \"green\",s =17,label='estimatedlandmark neuron')\n",
    "#plt.scatter(spikemon_nonestimatedlandmark_t,np.repeat(1.8,len(spikemon_nonestimatedlandmark_t)),color = \"pink\",s =17,label='nonestimatedlandmark neuron')\n",
    "plt.scatter(spikemon_mismatch_t,np.zeros(len(spikemon_mismatch_t)),color = 'blue',s =17,label='mismatch neuron')\n",
    "\n",
    "#plt.xlim([10000,13000])\n",
    "plt.ylim([-0.1,2])\n",
    "plt.xlabel('Time (s)' ,fontsize=20)\n",
    "plt.legend(prop={'size': 20});\n",
    "plt.tick_params(axis='x', labelsize=30)\n",
    "plt.tick_params(axis='y', labelsize=20)\n"
   ]
  },
  {
   "cell_type": "code",
   "execution_count": null,
   "metadata": {},
   "outputs": [],
   "source": [
    "coordinate_collision_index_during_run= np.zeros([iter1, 32,32])\n",
    "for timestep in range(iter1):\n",
    "    x_cor,y_cor = get_coordinates(collision_index_during_run[timestep])\n",
    "    #print(len(x_cor))\n",
    "    for i in range(len(x_cor)):\n",
    "        #print(x_cor,y_cor)\n",
    "        coordinate_collision_index_during_run[timestep][int(y_cor[i])][int(x_cor[i])] = 1 \n",
    "\n",
    "\n",
    "coordinate_collision_learned = np.zeros([iter1,32,32])\n",
    "weightcollision_all = weightlandmark_all + weightwall_all\n",
    "\n",
    "for timestep in range(iter1):\n",
    "    collision_index = np.where(weightcollision_all[:,timestep]>=0.5)\n",
    "    x_cor_col,y_cor_col = get_coordinates(collision_index)\n",
    "    for i in range(len(x_cor_col[0])):\n",
    "        try:\n",
    "            coordinate_collision_learned[timestep][int(y_cor_col[0][i])][int(x_cor_col[0][i])] = 1\n",
    "        except TypeError:\n",
    "                    continue\n",
    "\n",
    "accumulated_score= np.array([])\n",
    "full_score = np.array([])\n",
    "\n",
    "for timestep in range(iter1):\n",
    "    score = 0\n",
    "    fullscore = 0\n",
    "    for j in range(N_y_axis):\n",
    "        for i in range(N_x_axis):\n",
    "            try:\n",
    "                if coordinate_collision_index_during_run[timestep][j][i] ==1 and coordinate_collision_learned[timestep][j][i] ==1:\n",
    "                    score +=1\n",
    "                    fullscore +=1\n",
    "                elif (coordinate_collision_index_during_run[timestep][j][i] ==1 and coordinate_collision_learned[timestep][j-1][i] ==1) or (coordinate_collision_index_during_run[timestep][j][i] ==1 and coordinate_collision_learned[timestep][j+1][i] ==1) or (coordinate_collision_index_during_run[timestep][j][i] ==1 and coordinate_collision_learned[timestep][j-1][i-1] ==1)or (coordinate_collision_index_during_run[timestep][j][i] ==1 and coordinate_collision_learned[timestep][j+1][i-1] ==1) or (coordinate_collision_index_during_run[timestep][j][i] ==1 and coordinate_collision_learned[timestep][j-1][i+1] ==1) or (coordinate_collision_index_during_run[timestep][j][i] ==1 and coordinate_collision_learned[timestep][j+1][i+1] ==1) or (coordinate_collision_index_during_run[timestep][j][i] ==1 and coordinate_collision_learned[timestep][j][i-1] ==1) or (coordinate_collision_index_during_run[timestep][j][i] ==1 and coordinate_collision_learned[timestep][j][i+1] ==1):\n",
    "                    score +=0.5\n",
    "            except IndexError:\n",
    "                continue\n",
    "    accumulated_score= np.append(accumulated_score,score)\n",
    "    full_score=np.append(full_score,fullscore)\n",
    "\n",
    "\n"
   ]
  },
  {
   "cell_type": "code",
   "execution_count": null,
   "metadata": {},
   "outputs": [],
   "source": [
    "plt.plot(np.arange(iter1),accumulated_score,label = \"accumulated_score\")\n",
    "plt.plot(np.arange(iter1),full_score,label = \"full_score\")\n",
    "\n",
    "#plt.set_xticks(range(0,iter1 , 100))\n",
    "plt.tick_params(axis='x', labelsize=30)\n",
    "plt.tick_params(axis='y', labelsize=30)\n",
    "plt.xlabel('Time (s)' ,fontsize=40)\n",
    "plt.ylabel('Score ', fontsize=40)\n",
    "lgnd=plt.legend(loc=0, prop={'size': 30}, frameon=False);"
   ]
  },
  {
   "cell_type": "code",
   "execution_count": null,
   "metadata": {},
   "outputs": [],
   "source": []
  },
  {
   "cell_type": "code",
   "execution_count": null,
   "metadata": {},
   "outputs": [],
   "source": [
    "from collections import Counter\n",
    "\n",
    "counts, bins = numpy.histogram(spikemon_mismatch_t, bins=10)\n",
    "counts\n"
   ]
  },
  {
   "cell_type": "code",
   "execution_count": null,
   "metadata": {},
   "outputs": [],
   "source": [
    "'''\n",
    "network with additional implementation of\n",
    "head error detection and correcting close loop mechanism\n",
    "'''\n",
    "'''\n",
    "1. visualization head direction error maginitude \n",
    "during learning process.\n",
    "since the x is the neuron index of error neurons,\n",
    "a larger index (x axis) indicates a smaller error magnitude\n",
    "'''\n",
    "plt.rcParams['figure.figsize'] = [10,8]\n",
    "plt.scatter(spikemon_positiveHD_error_t,spikemon_positiveHD_error_i,color = \"blue\",s =3)\n",
    "plt.xlabel('Time (s)' ,fontsize=15)\n",
    "plt.ylabel('reverse value of head direction Error magnitude value' ,fontsize=15)\n"
   ]
  },
  {
   "cell_type": "code",
   "execution_count": null,
   "metadata": {},
   "outputs": [],
   "source": [
    "'''\n",
    "Comparision between different network implementation\n",
    "network with IMU recalition vs network without IMU recalition\n",
    "vs network with error correction mechanism vs \n",
    "network with both IMU recalition and error correction mechanism\n",
    "'''\n",
    "\n",
    "\n",
    "\n",
    "##wall and landmark learned in a network with both IMU recalibriation and error correction\n",
    "#wall_index_IMUHC = np.where(weightwall_all_IMUHC[:,1800]>0.5)\n",
    "#bestlandmark_IMUHC= np.where(weightlandmark_all_IMUHC[:,1800]>=0.5)\n",
    "landmark_index_IMUHC = np.array(bestlandmark_IMUHC)\n",
    "x_wall_IMUHC, y_wall_IMUHC = get_coordinates(wall_index_IMUHC)\n",
    "x_landmark_IMUHC,y_landmark_IMUHC = get_coordinates(landmark_index_IMUHC)\n",
    "\n",
    "##wall and landmark learned in a network with both IMU recalibriation and error correction\n",
    "wall_index_noIMUnoHC = np.where(weightwall_all_noIMUnoHC[:,2900]>0)\n",
    "bestlandmark_noIMUnoHC= np.where(weightlandmark_all_noIMUnoHC[:,2900]>0.5)\n",
    "landmark_index_noIMUnoHC = np.array(bestlandmark_noIMUnoHC)\n",
    "x_wall_noIMUnoHC, y_wall_noIMUnoHC = get_coordinates(wall_index_noIMUnoHC)\n",
    "x_landmark_noIMUnoHC,y_landmark_noIMUnoHC = get_coordinates(landmark_index_noIMUnoHC)\n",
    "\n",
    "##wall and landmark learned in a network with only  error correction\n",
    "wall_index_onlyHC = np.where(weightwall_all_onlyHC[:,(1800)]>0.5)\n",
    "bestlandmark_onlyHC = np.where(weightlandmark_all_onlyHC[:,1800]>0.5)\n",
    "landmark_index_onlyHC = np.array(bestlandmark_onlyHC)\n",
    "# calculating coordinates based on neuron indexes\n",
    "x_wall_onlyHC, y_wall_onlyHC = get_coordinates(wall_index_onlyHC)\n",
    "x_landmark_onlyHC,y_landmark_onlyHC = get_coordinates(landmark_index_onlyHC)\n",
    "plt.rcParams['figure.figsize'] = [15, 13]\n",
    "\n",
    "#ploting the comparison\n",
    "\n",
    "fig = plt.figure()\n",
    "plt.subplot(2, 2, 1)\n",
    "plt.scatter(x_wall_IMUHC, y_wall_IMUHC, marker='o')\n",
    "plt.scatter(x_landmark_IMUHC,y_landmark_IMUHC, color = \"red\", marker='o')\n",
    "plt.gca().set_title('learned map by network using both IMU recal and error correction')\n",
    "\n",
    "plt.subplot(2, 2, 2)\n",
    "plt.scatter(x_wall, y_wall, marker='o')\n",
    "plt.scatter(x_landmark,y_landmark, color = \"red\", marker='o')\n",
    "plt.gca().set_title('learned map by network using only IMU recal ')\n",
    "\n",
    "\n",
    "plt.subplot(2, 2, 3)\n",
    "plt.scatter(x_wall_onlyHC, y_wall_onlyHC, marker='o')\n",
    "plt.scatter(x_landmark_onlyHC,y_landmark_onlyHC, color = \"red\", marker='o')\n",
    "plt.gca().set_title('learned map by network with only error correction')\n",
    "\n",
    "\n",
    "\n",
    "plt.subplot(2, 2, 4)\n",
    "plt.scatter(x_wall_noIMUnoHC, y_wall_noIMUnoHC, marker='o')\n",
    "plt.scatter(x_landmark_noIMUnoHC,y_landmark_noIMUnoHC, color = \"red\", marker='o')\n",
    "plt.gca().set_title('learned map by network without IMU and error correction')\n",
    "\n",
    "plt.show()\n"
   ]
  },
  {
   "cell_type": "code",
   "execution_count": null,
   "metadata": {},
   "outputs": [],
   "source": [
    "position_neuron_index"
   ]
  },
  {
   "cell_type": "code",
   "execution_count": null,
   "metadata": {},
   "outputs": [],
   "source": [
    "## compute error for IMU groundtruth value with learned collision\n",
    "# for \n",
    "position_neuron_index = np.arange(N_axis*N_axis)\n",
    "x_allindex,y_allindex =get_coordinates(position_neuron_index)\n",
    "learned_wall = np.zeros(N_axis*N_axis)\n",
    "learned_landscape =np.zeros(N_axis*N_axis)\n",
    "collision = np.zeros(N_axis*N_axis)\n",
    "df = pd.DataFrame(list(zip(position_neuron_index , x_allindex,y_allindex,learned_wall,learned_landscape,collision)),\n",
    "                  columns =['NeuronIndex', 'x_axis','y_axis','learned_wall','learned_landmark','imu_collision'])\n",
    "\n",
    "for value in wall_index[0]:\n",
    "    df.loc[df['NeuronIndex'] == int(value),'learned_wall'] = 1\n",
    "for value in bestlandmark[0]:\n",
    "    df.loc[df['NeuronIndex'] == int(value),'learned_landmark'] = 1\n",
    "\n",
    "df[\"learned_collision(wall+landmark)\"] = df['learned_wall'] + df['learned_landmark']\n",
    "\n",
    "for value in collision_index_during_run[-1]:\n",
    "    df.loc[df['NeuronIndex'] == int(value),'imu_collision'] = 1\n",
    "    \n",
    "df['error'] = abs(df['imu_collision']-df['learned_collision(wall+landmark)'])\n",
    "accuracy_onlyIMU = 1-(sum(df['error']))/(N_axis*N_axis) \n",
    "\n",
    "accuracy_onlyIMU"
   ]
  },
  {
   "cell_type": "code",
   "execution_count": 17,
   "metadata": {},
   "outputs": [],
   "source": [
    "## compute error for IMU groundtruth value with learned collision\n",
    "# for \n",
    "position_neuron_index = np.arange(N_axis*N_axis)\n",
    "x_allindex,y_allindex =get_coordinates(position_neuron_index)\n",
    "learned_wall = np.zeros(N_axis*N_axis)\n",
    "learned_landscape =np.zeros(N_axis*N_axis)\n",
    "collision = np.zeros(N_axis*N_axis)"
   ]
  },
  {
   "cell_type": "code",
   "execution_count": null,
   "metadata": {},
   "outputs": [],
   "source": []
  },
  {
   "cell_type": "code",
   "execution_count": null,
   "metadata": {},
   "outputs": [],
   "source": [
    "wall_index[0]"
   ]
  },
  {
   "cell_type": "code",
   "execution_count": null,
   "metadata": {},
   "outputs": [],
   "source": [
    "## compute error for IMU groundtruth value with learned collision\n",
    "# for \n",
    "position_neuron_index = np.arange(N_axis*N_axis)\n",
    "x_allindex,y_allindex =get_coordinates(position_neuron_index)\n",
    "learned_wall = np.zeros(N_axis*N_axis)\n",
    "learned_landscape =np.zeros(N_axis*N_axis)\n",
    "collision = np.zeros(N_axis*N_axis)\n",
    "df2 = pd.DataFrame(list(zip(position_neuron_index , x_allindex,y_allindex,learned_wall,learned_landscape,collision)),\n",
    "                  columns =['NeuronIndex', 'x_axis','y_axis','learned_wall','learned_landmark','imu_collision'])\n",
    "\n",
    "for value in wall_index_noIMUnoHC[0]:\n",
    "    df.loc[df['NeuronIndex'] == int(value),'learned_wall'] = 1\n",
    "for value in bestlandmark_noIMUnoHC[0]:\n",
    "    df.loc[df['NeuronIndex'] == int(value),'learned_landmark'] = 1\n",
    "\n",
    "df[\"learned_collision(wall+landmark)\"] = df['learned_wall'] + df['learned_landmark']\n",
    "\n",
    "for value in collision_index_during_run_noIMUnoHC[-1]:\n",
    "    df.loc[df['NeuronIndex'] == int(value),'imu_collision'] = 1\n",
    "    \n",
    "df['error'] = abs(df['imu_collision']-df['learned_collision(wall+landmark)'])\n",
    "accuracy__noIMUnoHC = 1-(sum(df['error']))/(N_axis*N_axis) \n",
    "\n",
    "accuracy__noIMUnoHC"
   ]
  },
  {
   "cell_type": "code",
   "execution_count": null,
   "metadata": {},
   "outputs": [],
   "source": []
  },
  {
   "cell_type": "code",
   "execution_count": null,
   "metadata": {},
   "outputs": [],
   "source": [
    "## compute error for IMU groundtruth value with learned collision\n",
    "# for \n",
    "position_neuron_index = np.arange(N_axis*N_axis)\n",
    "x_allindex,y_allindex =get_coordinates(position_neuron_index)\n",
    "learned_wall = np.zeros(N_axis*N_axis)\n",
    "learned_landscape =np.zeros(N_axis*N_axis)\n",
    "collision = np.zeros(N_axis*N_axis)\n",
    "df3 = pd.DataFrame(list(zip(position_neuron_index , x_allindex,y_allindex,learned_wall,learned_landscape,collision)),\n",
    "                  columns =['NeuronIndex', 'x_axis','y_axis','learned_wall','learned_landmark','imu_collision'])\n",
    "\n",
    "for value in wall_index_onlyHC[0]:\n",
    "    df.loc[df['NeuronIndex'] == int(value),'learned_wall'] = 1\n",
    "for value in bestlandmark_onlyHC[0]:\n",
    "    df.loc[df['NeuronIndex'] == int(value),'learned_landmark'] = 1\n",
    "\n",
    "df[\"learned_collision(wall+landmark)\"] = df['learned_wall'] + df['learned_landmark']\n",
    "\n",
    "for value in collision_index_during_run_onlyHC[-1]:\n",
    "    df.loc[df['NeuronIndex'] == int(value),'imu_collision'] = 1\n",
    "    \n",
    "df['error'] = abs(df['imu_collision']-df['learned_collision(wall+landmark)'])\n",
    "accuracy_onlyHC = 1-(sum(df['error']))/(N_axis*N_axis) # error substract 2 values for landmark\n",
    "\n",
    "accuracy_onlyHC"
   ]
  },
  {
   "cell_type": "code",
   "execution_count": null,
   "metadata": {},
   "outputs": [],
   "source": [
    "## compute error for IMU groundtruth value with learned collision\n",
    "# for \n",
    "position_neuron_index = np.arange(N_axis*N_axis)\n",
    "x_allindex,y_allindex =get_coordinates(position_neuron_index)\n",
    "learned_wall = np.zeros(N_axis*N_axis)\n",
    "learned_landscape =np.zeros(N_axis*N_axis)\n",
    "collision = np.zeros(N_axis*N_axis)\n",
    "df4 = pd.DataFrame(list(zip(position_neuron_index , x_allindex,y_allindex,learned_wall,learned_landscape,collision)),\n",
    "                  columns =['NeuronIndex', 'x_axis','y_axis','learned_wall','learned_landmark','imu_collision'])\n",
    "\n",
    "for value in wall_index_IMUHC[0]:\n",
    "    df.loc[df['NeuronIndex'] == int(value),'learned_wall'] = 1\n",
    "for value in bestlandmark_IMUHC:\n",
    "    df.loc[df['NeuronIndex'] == int(value),'learned_landmark'] = 1\n",
    "\n",
    "df[\"learned_collision(wall+landmark)\"] = df['learned_wall'] + df['learned_landmark']\n",
    "\n",
    "for value in collision_index_during_run_IMUHC[-1]:\n",
    "    df.loc[df['NeuronIndex'] == int(value),'imu_collision'] = 1\n",
    "    \n",
    "df['error'] = abs(df['imu_collision']-df['learned_collision(wall+landmark)'])\n",
    "accuracy_IMUHC = 1-(sum(df['error']))/(N_axis*N_axis) # error substract 2 values for landmark\n",
    "\n",
    "accuracy_IMUHC"
   ]
  },
  {
   "cell_type": "code",
   "execution_count": null,
   "metadata": {},
   "outputs": [],
   "source": [
    "plt.rcParams['figure.figsize'] = [7,5]\n",
    "methods = ['noIMUnoHC','onlyHC','onlyIMU','IMUHC']\n",
    "accuracylist = [accuracy_noIMUnoHC,accuracy_onlyHC,accuracy_onlyIMU,accuracy_IMUHC]\n",
    "plt.ylim([0.85,1])\n",
    "plt.bar(methods,accuracylist)"
   ]
  },
  {
   "cell_type": "code",
   "execution_count": null,
   "metadata": {},
   "outputs": [],
   "source": [
    "### read data from network without Head direction error correcting cells\n",
    "collision_index_during_run =np.load('/Users/jieyab/SNN/for_plotting/last_data/collision_index_during_run1.npy')\n",
    "collision_index = np.load('/Users/jieyab/SNN/for_plotting/last_data/collision_index1.npy')\n",
    "r = np.load('/Users/jieyab/SNN/for_plotting/last_data/r1.npy')\n",
    "alltime = np.load('/Users/jieyab/SNN/for_plotting/last_data/all_time1.npy')\n",
    "compass_angle = np.load('/Users/jieyab/SNN/for_plotting/last_data/compass_angle1.npy')\n",
    "#obtain spiking monitor data\n",
    "spikemon_CD_t = np.load('/Users/jieyab/SNN/for_plotting/last_data/spikemon_CD_t1.npy')\n",
    "spikemon_CD_i = np.load('/Users/jieyab/SNN/for_plotting/last_data/spikemon_CD_i1.npy')\n",
    "spikemon_wall_t = np.load('/Users/jieyab/SNN/for_plotting/last_data/spikemon_wall_t1.npy')\n",
    "spikemon_wall_i = np.load('/Users/jieyab/SNN/for_plotting/last_data/spikemon_wall_i1.npy')\n",
    "\n",
    "spikemon_landmark_t = np.load('/Users/jieyab/SNN/for_plotting/last_data/spikemon_landmark_t1.npy')\n",
    "spikemon_landmark_i = np.load('/Users/jieyab/SNN/for_plotting/last_data/spikemon_landmark_i1.npy')\n",
    "spikemon_nonlandmark_t = np.load('/Users/jieyab/SNN/for_plotting/last_data/spikemon_nonlandmark_t1.npy')\n",
    "spikemon_nonlandmark_i = np.load('/Users/jieyab/SNN/for_plotting/last_data/spikemon_nonlandmark_i1.npy')\n",
    "\n",
    "spikemon_estimatedlandmark_t = np.load('/Users/jieyab/SNN/for_plotting/last_data/spikemon_estimatedlandmark_t1.npy')\n",
    "spikemon_estimatedlandmark_i = np.load('/Users/jieyab/SNN/for_plotting/last_data/spikemon_estimatedlandmark_i1.npy')\n",
    "\n",
    "spikemon_HD_t = np.load('/Users/jieyab/SNN/for_plotting/last_data/spikemon_HD_t1.npy')\n",
    "spikemon_HD_i = np.load('/Users/jieyab/SNN/for_plotting/last_data/spikemon_HD_i1.npy')\n",
    "\n",
    "spikemon_mismatch_t = np.load('/Users/jieyab/SNN/for_plotting/last_data/spikemon_mismatch_t1.npy')\n",
    "spikemon_mismatch_v = np.load('/Users/jieyab/SNN/for_plotting/last_data/spikemon_mismatch_v1.npy')\n",
    "\n",
    "spikemon_noncol_i = np.load('/Users/jieyab/SNN/for_plotting/last_data/spikemon_noncollision_i1.npy')\n",
    "spikemon_noncol_t = np.load('/Users/jieyab/SNN/for_plotting/last_data/spikemon_noncollision_t1.npy')\n",
    "\n",
    "\n",
    "#obtaining plastic weights data\n",
    "weightlandmark_all = np.load('/Users/jieyab/SNN/for_plotting/last_data/weight_during_run_landmark1.npy')\n",
    "weightwall_all = np.load('/Users/jieyab/SNN/for_plotting/last_data/weight_during_run_wall1.npy') "
   ]
  },
  {
   "cell_type": "code",
   "execution_count": null,
   "metadata": {},
   "outputs": [],
   "source": [
    "alltime[-1]"
   ]
  },
  {
   "cell_type": "code",
   "execution_count": null,
   "metadata": {},
   "outputs": [],
   "source": [
    "onlyimu = np.array([82.5,79.6,80.3,79.1])\n",
    "imuhd = np.array([82.5,84.1,82.8,83.49])\n",
    "mean1 = np.mean(onlyimu/100)\n",
    "mean2 = np.mean(imuhd/100)\n",
    "sd1 = np.std(onlyimu/100)\n",
    "sd2 = np.std(imuhd/100)\n",
    "sd1\n"
   ]
  },
  {
   "cell_type": "code",
   "execution_count": null,
   "metadata": {},
   "outputs": [],
   "source": [
    "sd2"
   ]
  },
  {
   "cell_type": "code",
   "execution_count": null,
   "metadata": {},
   "outputs": [],
   "source": [
    "accuracy = [mean2,mean1, 0.736,0.732]\n",
    "error = [sd2,sd1, 1.4/100,1.5/100]\n",
    "\n",
    "models =('Extended','onlyIMU','Benchmark','onlyHeadcorrection')\n",
    "y_pos = np.arange(len(models))\n",
    "ylim(0.5, 0.9)\n",
    "plt.bar(y_pos,accuracy,yerr=error)\n",
    "plt.xticks(y_pos, models)\n",
    "tick_params(labelsize=20)\n",
    "plt.xlabel('models', fontsize=20)\n",
    "plt.ylabel('accuracy', fontsize=20)\n",
    "\n",
    "\n",
    "\n",
    "\n"
   ]
  },
  {
   "cell_type": "code",
   "execution_count": null,
   "metadata": {},
   "outputs": [],
   "source": []
  }
 ],
 "metadata": {
  "kernelspec": {
   "display_name": "Python 3",
   "language": "python",
   "name": "python3"
  },
  "language_info": {
   "codemirror_mode": {
    "name": "ipython",
    "version": 3
   },
   "file_extension": ".py",
   "mimetype": "text/x-python",
   "name": "python",
   "nbconvert_exporter": "python",
   "pygments_lexer": "ipython3",
   "version": "3.6.4"
  }
 },
 "nbformat": 4,
 "nbformat_minor": 2
}
